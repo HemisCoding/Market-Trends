{
 "cells": [
  {
   "cell_type": "code",
   "execution_count": 1,
   "id": "6b79e4ea-58be-4685-9346-9723500a4844",
   "metadata": {},
   "outputs": [
    {
     "name": "stdout",
     "output_type": "stream",
     "text": [
      "Collecting groq\n",
      "  Downloading groq-0.8.0-py3-none-any.whl (105 kB)\n",
      "\u001b[2K     \u001b[90m━━━━━━━━━━━━━━━━━━━━━━━━━━━━━━━━━━━━━━━\u001b[0m \u001b[32m105.4/105.4 kB\u001b[0m \u001b[31m1.7 MB/s\u001b[0m eta \u001b[36m0:00:00\u001b[0ma \u001b[36m0:00:01\u001b[0m\n",
      "\u001b[?25hRequirement already satisfied: httpx<1,>=0.23.0 in /Users/kossee/anaconda3/lib/python3.10/site-packages (from groq) (0.27.0)\n",
      "Requirement already satisfied: anyio<5,>=3.5.0 in /Users/kossee/anaconda3/lib/python3.10/site-packages (from groq) (3.5.0)\n",
      "Requirement already satisfied: pydantic<3,>=1.9.0 in /Users/kossee/anaconda3/lib/python3.10/site-packages (from groq) (2.5.1)\n",
      "Requirement already satisfied: distro<2,>=1.7.0 in /Users/kossee/anaconda3/lib/python3.10/site-packages (from groq) (1.9.0)\n",
      "Requirement already satisfied: sniffio in /Users/kossee/anaconda3/lib/python3.10/site-packages (from groq) (1.2.0)\n",
      "Requirement already satisfied: typing-extensions<5,>=4.7 in /Users/kossee/anaconda3/lib/python3.10/site-packages (from groq) (4.8.0)\n",
      "Requirement already satisfied: idna>=2.8 in /Users/kossee/anaconda3/lib/python3.10/site-packages (from anyio<5,>=3.5.0->groq) (3.4)\n",
      "Requirement already satisfied: certifi in /Users/kossee/anaconda3/lib/python3.10/site-packages (from httpx<1,>=0.23.0->groq) (2023.11.17)\n",
      "Requirement already satisfied: httpcore==1.* in /Users/kossee/anaconda3/lib/python3.10/site-packages (from httpx<1,>=0.23.0->groq) (1.0.5)\n",
      "Requirement already satisfied: h11<0.15,>=0.13 in /Users/kossee/anaconda3/lib/python3.10/site-packages (from httpcore==1.*->httpx<1,>=0.23.0->groq) (0.14.0)\n",
      "Requirement already satisfied: pydantic-core==2.14.3 in /Users/kossee/anaconda3/lib/python3.10/site-packages (from pydantic<3,>=1.9.0->groq) (2.14.3)\n",
      "Requirement already satisfied: annotated-types>=0.4.0 in /Users/kossee/anaconda3/lib/python3.10/site-packages (from pydantic<3,>=1.9.0->groq) (0.6.0)\n",
      "Installing collected packages: groq\n",
      "Successfully installed groq-0.8.0\n"
     ]
    }
   ],
   "source": [
    "!pip install groq"
   ]
  },
  {
   "cell_type": "code",
   "execution_count": 10,
   "id": "05e14bb8-1444-4990-9a28-a9d21bfd3dd0",
   "metadata": {},
   "outputs": [],
   "source": [
    "import os\n",
    "\n",
    "os.environ[\"GROQ_API_KEY\"]=\n",
    "#\"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\""
   ]
  },
  {
   "cell_type": "code",
   "execution_count": null,
   "id": "449c4568-7234-4769-8d83-7acef5e1f184",
   "metadata": {},
   "outputs": [
    {
     "name": "stdout",
     "output_type": "stream",
     "text": [
      "                                              prompt  \\\n",
      "0  Find the best restaurants in New York with gre...   \n",
      "1                             Best hot dogs in Paris   \n",
      "2           Shaormerii cu specific arabesc in Brasov   \n",
      "3             Smashed Burgers in cluj la un pret mic   \n",
      "4                    Sandvis cubanez in orasul Buzau   \n",
      "5    Restaurante cu pizza napoletana si pet friendly   \n",
      "6      Restaurant cu mancare traditionala romaneasca   \n",
      "7                     Mamaliga cu branza si smantana   \n",
      "\n",
      "                                            keywords  \n",
      "0  {'q': ['best restaurants', 'restaurants in New...  \n",
      "1  {'q': ['Best hot dogs', 'hot dogs', 'dogs Pari...  \n",
      "2            {'q': ['Brasov'], 'location': 'Brasov'}  \n",
      "3  {'q': ['Smashed Burgers', 'Cluj'], 'location':...  \n",
      "4  {'q': ['cubanez', 'Buzau', 'orasul', 'Buzau', ...  \n",
      "5  {'q': ['pizza', 'pet friendly', 'napoletana', ...  \n",
      "6  {'q': ['Romanian food', 'Traditional Romanian ...  \n",
      "7  {'q': ['mamaliga', 'branza', 'smantana'], 'loc...  \n"
     ]
    }
   ],
   "source": [
    "import json\n",
    "import re\n",
    "import pandas as pd\n",
    "\n",
    "def llm_keyword_extraction(text):\n",
    "    keyword_prompt = f\"\"\"You are an expert at identifying the most important keywords in a text for search engine optimization (SEO). \n",
    "    Analyze the following text and extract the top 5 keywords or key phrases that best capture the core topic and are likely to be used in search queries.\n",
    "    Also, identify if there is a location mentioned in the text. \n",
    "    If there is no location, return False. \n",
    "    Display the keywords and location in a JSON format with q with single column for keywords and location with single column for the location.\n",
    "    Your output response should only contain the JSON and not a single more word.\n",
    "    This is an example of good response: {{'q': ['hot dogs', 'Best hot dogs', 'Paris'], 'location': 'Paris'}}\n",
    "    Text: {text}\n",
    "    \n",
    "    Output:\"\"\"\n",
    "\n",
    "    chat_completion = client.chat.completions.create(\n",
    "        messages=[{\"role\": \"user\", \"content\": keyword_prompt}],\n",
    "        model=\"llama3-8b-8192\",\n",
    "    )\n",
    "    \n",
    "    response = chat_completion.choices[0].message.content.strip()\n",
    "    \n",
    "    try:\n",
    "        output = json.loads(response)\n",
    "    except json.JSONDecodeError:\n",
    "        json_match = re.search(r'\\{.*\\}', response, re.DOTALL)\n",
    "        if json_match:\n",
    "            json_response = json_match.group(0)\n",
    "            try:\n",
    "                output = json.loads(json_response)\n",
    "            except json.JSONDecodeError:\n",
    "                print(\"Failed to decode JSON. Response from LLM:\")\n",
    "                print(response)\n",
    "                output = {'q': [], 'location': False}\n",
    "        else:\n",
    "            print(\"No JSON object found in response. Response from LLM:\")\n",
    "            print(response)\n",
    "            output = {'q': [], 'location': False}\n",
    "    \n",
    "    return output\n",
    "\n",
    "\n",
    "text_input = [\n",
    "        'Find the best restaurants in New York with great ambiance and food',\n",
    "        'Best hot dogs in Paris',\n",
    "        'Shaormerii cu specific arabesc in Brasov',\n",
    "        'Smashed Burgers in cluj la un pret mic',\n",
    "        'Sandvis cubanez in orasul Buzau',\n",
    "        'Restaurante cu pizza napoletana si pet friendly',\n",
    "        'Restaurant cu mancare traditionala romaneasca',\n",
    "        'Mamaliga cu branza si smantana'\n",
    "    ]\n",
    "\n",
    "df = pd.DataFrame()\n",
    "for text in text_input:\n",
    "    new_row = {'prompt': text, 'keywords': llm_keyword_extraction(text)}\n",
    "    df = pd.concat([df, pd.DataFrame([new_row])], ignore_index=True)\n",
    "print(df)\n"
   ]
  },
  {
   "cell_type": "code",
   "execution_count": 30,
   "id": "0b8948cb-8eb4-48e3-a78f-edc4d567149d",
   "metadata": {},
   "outputs": [
    {
     "data": {
      "text/plain": [
       "{'q': ['hot dogs', 'Best hot dogs', 'Paris'], 'location': 'Paris'}"
      ]
     },
     "execution_count": 30,
     "metadata": {},
     "output_type": "execute_result"
    }
   ],
   "source": [
    "df['keywords'][1]"
   ]
  },
  {
   "cell_type": "code",
   "execution_count": null,
   "id": "3febc9f7-d1ff-4469-adfb-7a50c0d2d346",
   "metadata": {},
   "outputs": [],
   "source": []
  }
 ],
 "metadata": {
  "kernelspec": {
   "display_name": "Python 3 (ipykernel)",
   "language": "python",
   "name": "python3"
  },
  "language_info": {
   "codemirror_mode": {
    "name": "ipython",
    "version": 3
   },
   "file_extension": ".py",
   "mimetype": "text/x-python",
   "name": "python",
   "nbconvert_exporter": "python",
   "pygments_lexer": "ipython3",
   "version": "3.10.13"
  }
 },
 "nbformat": 4,
 "nbformat_minor": 5
}
