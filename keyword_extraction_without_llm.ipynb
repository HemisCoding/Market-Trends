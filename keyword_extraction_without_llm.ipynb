{
 "cells": [
  {
   "cell_type": "code",
   "execution_count": 1,
   "id": "347c3957-0fe3-49c4-bbf7-e03c71af27a9",
   "metadata": {},
   "outputs": [
    {
     "name": "stdout",
     "output_type": "stream",
     "text": [
      "Collecting rake-nltk\n",
      "  Downloading rake_nltk-1.0.6-py3-none-any.whl (9.1 kB)\n",
      "Requirement already satisfied: nltk<4.0.0,>=3.6.2 in /Users/kossee/anaconda3/lib/python3.10/site-packages (from rake-nltk) (3.8.1)\n",
      "Requirement already satisfied: click in /Users/kossee/anaconda3/lib/python3.10/site-packages (from nltk<4.0.0,>=3.6.2->rake-nltk) (8.1.7)\n",
      "Requirement already satisfied: tqdm in /Users/kossee/anaconda3/lib/python3.10/site-packages (from nltk<4.0.0,>=3.6.2->rake-nltk) (4.65.0)\n",
      "Requirement already satisfied: joblib in /Users/kossee/anaconda3/lib/python3.10/site-packages (from nltk<4.0.0,>=3.6.2->rake-nltk) (1.2.0)\n",
      "Requirement already satisfied: regex>=2021.8.3 in /Users/kossee/anaconda3/lib/python3.10/site-packages (from nltk<4.0.0,>=3.6.2->rake-nltk) (2023.12.25)\n",
      "Installing collected packages: rake-nltk\n",
      "Successfully installed rake-nltk-1.0.6\n"
     ]
    }
   ],
   "source": [
    "!pip3 install rake-nltk"
   ]
  },
  {
   "cell_type": "code",
   "execution_count": 6,
   "id": "bdb92a8c-35fc-4b37-8349-19278e5dbb6d",
   "metadata": {},
   "outputs": [
    {
     "name": "stdout",
     "output_type": "stream",
     "text": [
      "Collecting keybert\n",
      "  Downloading keybert-0.8.4.tar.gz (29 kB)\n",
      "  Preparing metadata (setup.py) ... \u001b[?25ldone\n",
      "\u001b[?25hCollecting sentence-transformers>=0.3.8\n",
      "  Downloading sentence_transformers-3.0.0-py3-none-any.whl (224 kB)\n",
      "\u001b[2K     \u001b[90m━━━━━━━━━━━━━━━━━━━━━━━━━━━━━━━━━━━━━━━\u001b[0m \u001b[32m224.7/224.7 kB\u001b[0m \u001b[31m3.0 MB/s\u001b[0m eta \u001b[36m0:00:00\u001b[0ma \u001b[36m0:00:01\u001b[0m\n",
      "\u001b[?25hRequirement already satisfied: scikit-learn>=0.22.2 in /Users/kossee/anaconda3/lib/python3.10/site-packages (from keybert) (1.3.0)\n",
      "Requirement already satisfied: numpy>=1.18.5 in /Users/kossee/anaconda3/lib/python3.10/site-packages (from keybert) (1.26.0)\n",
      "Requirement already satisfied: rich>=10.4.0 in /Users/kossee/anaconda3/lib/python3.10/site-packages (from keybert) (13.7.1)\n",
      "Requirement already satisfied: markdown-it-py>=2.2.0 in /Users/kossee/anaconda3/lib/python3.10/site-packages (from rich>=10.4.0->keybert) (3.0.0)\n",
      "Requirement already satisfied: pygments<3.0.0,>=2.13.0 in /Users/kossee/anaconda3/lib/python3.10/site-packages (from rich>=10.4.0->keybert) (2.15.1)\n",
      "Requirement already satisfied: scipy>=1.5.0 in /Users/kossee/anaconda3/lib/python3.10/site-packages (from scikit-learn>=0.22.2->keybert) (1.11.3)\n",
      "Requirement already satisfied: joblib>=1.1.1 in /Users/kossee/anaconda3/lib/python3.10/site-packages (from scikit-learn>=0.22.2->keybert) (1.2.0)\n",
      "Requirement already satisfied: threadpoolctl>=2.0.0 in /Users/kossee/anaconda3/lib/python3.10/site-packages (from scikit-learn>=0.22.2->keybert) (2.2.0)\n",
      "Requirement already satisfied: Pillow in /Users/kossee/anaconda3/lib/python3.10/site-packages (from sentence-transformers>=0.3.8->keybert) (10.0.1)\n",
      "Requirement already satisfied: tqdm in /Users/kossee/anaconda3/lib/python3.10/site-packages (from sentence-transformers>=0.3.8->keybert) (4.65.0)\n",
      "Requirement already satisfied: transformers<5.0.0,>=4.34.0 in /Users/kossee/anaconda3/lib/python3.10/site-packages (from sentence-transformers>=0.3.8->keybert) (4.41.1)\n",
      "Requirement already satisfied: torch>=1.11.0 in /Users/kossee/anaconda3/lib/python3.10/site-packages (from sentence-transformers>=0.3.8->keybert) (2.1.1)\n",
      "Requirement already satisfied: huggingface-hub>=0.15.1 in /Users/kossee/anaconda3/lib/python3.10/site-packages (from sentence-transformers>=0.3.8->keybert) (0.23.1)\n",
      "Requirement already satisfied: pyyaml>=5.1 in /Users/kossee/anaconda3/lib/python3.10/site-packages (from huggingface-hub>=0.15.1->sentence-transformers>=0.3.8->keybert) (6.0.1)\n",
      "Requirement already satisfied: packaging>=20.9 in /Users/kossee/anaconda3/lib/python3.10/site-packages (from huggingface-hub>=0.15.1->sentence-transformers>=0.3.8->keybert) (23.2)\n",
      "Requirement already satisfied: requests in /Users/kossee/anaconda3/lib/python3.10/site-packages (from huggingface-hub>=0.15.1->sentence-transformers>=0.3.8->keybert) (2.31.0)\n",
      "Requirement already satisfied: filelock in /Users/kossee/anaconda3/lib/python3.10/site-packages (from huggingface-hub>=0.15.1->sentence-transformers>=0.3.8->keybert) (3.12.0)\n",
      "Requirement already satisfied: typing-extensions>=3.7.4.3 in /Users/kossee/anaconda3/lib/python3.10/site-packages (from huggingface-hub>=0.15.1->sentence-transformers>=0.3.8->keybert) (4.8.0)\n",
      "Requirement already satisfied: fsspec>=2023.5.0 in /Users/kossee/anaconda3/lib/python3.10/site-packages (from huggingface-hub>=0.15.1->sentence-transformers>=0.3.8->keybert) (2023.10.0)\n",
      "Requirement already satisfied: mdurl~=0.1 in /Users/kossee/anaconda3/lib/python3.10/site-packages (from markdown-it-py>=2.2.0->rich>=10.4.0->keybert) (0.1.2)\n",
      "Requirement already satisfied: jinja2 in /Users/kossee/anaconda3/lib/python3.10/site-packages (from torch>=1.11.0->sentence-transformers>=0.3.8->keybert) (3.1.4)\n",
      "Requirement already satisfied: networkx in /Users/kossee/anaconda3/lib/python3.10/site-packages (from torch>=1.11.0->sentence-transformers>=0.3.8->keybert) (3.1)\n",
      "Requirement already satisfied: sympy in /Users/kossee/anaconda3/lib/python3.10/site-packages (from torch>=1.11.0->sentence-transformers>=0.3.8->keybert) (1.11.1)\n",
      "Requirement already satisfied: tokenizers<0.20,>=0.19 in /Users/kossee/anaconda3/lib/python3.10/site-packages (from transformers<5.0.0,>=4.34.0->sentence-transformers>=0.3.8->keybert) (0.19.1)\n",
      "Requirement already satisfied: regex!=2019.12.17 in /Users/kossee/anaconda3/lib/python3.10/site-packages (from transformers<5.0.0,>=4.34.0->sentence-transformers>=0.3.8->keybert) (2023.12.25)\n",
      "Requirement already satisfied: safetensors>=0.4.1 in /Users/kossee/anaconda3/lib/python3.10/site-packages (from transformers<5.0.0,>=4.34.0->sentence-transformers>=0.3.8->keybert) (0.4.1)\n",
      "Requirement already satisfied: MarkupSafe>=2.0 in /Users/kossee/anaconda3/lib/python3.10/site-packages (from jinja2->torch>=1.11.0->sentence-transformers>=0.3.8->keybert) (2.1.1)\n",
      "Requirement already satisfied: idna<4,>=2.5 in /Users/kossee/anaconda3/lib/python3.10/site-packages (from requests->huggingface-hub>=0.15.1->sentence-transformers>=0.3.8->keybert) (3.4)\n",
      "Requirement already satisfied: certifi>=2017.4.17 in /Users/kossee/anaconda3/lib/python3.10/site-packages (from requests->huggingface-hub>=0.15.1->sentence-transformers>=0.3.8->keybert) (2023.11.17)\n",
      "Requirement already satisfied: urllib3<3,>=1.21.1 in /Users/kossee/anaconda3/lib/python3.10/site-packages (from requests->huggingface-hub>=0.15.1->sentence-transformers>=0.3.8->keybert) (2.2.1)\n",
      "Requirement already satisfied: charset-normalizer<4,>=2 in /Users/kossee/anaconda3/lib/python3.10/site-packages (from requests->huggingface-hub>=0.15.1->sentence-transformers>=0.3.8->keybert) (2.0.4)\n",
      "Requirement already satisfied: mpmath>=0.19 in /Users/kossee/anaconda3/lib/python3.10/site-packages (from sympy->torch>=1.11.0->sentence-transformers>=0.3.8->keybert) (1.3.0)\n",
      "Building wheels for collected packages: keybert\n",
      "  Building wheel for keybert (setup.py) ... \u001b[?25ldone\n",
      "\u001b[?25h  Created wheel for keybert: filename=keybert-0.8.4-py3-none-any.whl size=39205 sha256=3fe7156230dd87b675d9c9ec91c6ed5a8afdce3a48f6d2bb93fadc596f59d6e1\n",
      "  Stored in directory: /Users/kossee/Library/Caches/pip/wheels/81/e4/ee/453d310c148e394b6079fa58044fcf88f59d56b385de3ce41e\n",
      "Successfully built keybert\n",
      "Installing collected packages: sentence-transformers, keybert\n",
      "Successfully installed keybert-0.8.4 sentence-transformers-3.0.0\n"
     ]
    }
   ],
   "source": [
    "!pip3 install keybert"
   ]
  },
  {
   "cell_type": "code",
   "execution_count": 10,
   "id": "df52b057-87f0-4be9-b888-e5fe37025a9e",
   "metadata": {},
   "outputs": [
    {
     "name": "stderr",
     "output_type": "stream",
     "text": [
      "huggingface/tokenizers: The current process just got forked, after parallelism has already been used. Disabling parallelism to avoid deadlocks...\n",
      "To disable this warning, you can either:\n",
      "\t- Avoid using `tokenizers` before the fork if possible\n",
      "\t- Explicitly set the environment variable TOKENIZERS_PARALLELISM=(true | false)\n"
     ]
    },
    {
     "name": "stdout",
     "output_type": "stream",
     "text": [
      "Collecting yake\n",
      "  Downloading yake-0.4.8-py2.py3-none-any.whl (60 kB)\n",
      "\u001b[2K     \u001b[90m━━━━━━━━━━━━━━━━━━━━━━━━━━━━━━━━━━━━━━━━\u001b[0m \u001b[32m60.2/60.2 kB\u001b[0m \u001b[31m1.4 MB/s\u001b[0m eta \u001b[36m0:00:00\u001b[0m\n",
      "\u001b[?25hRequirement already satisfied: networkx in /Users/kossee/anaconda3/lib/python3.10/site-packages (from yake) (3.1)\n",
      "Collecting jellyfish\n",
      "  Downloading jellyfish-1.0.4-cp310-cp310-macosx_11_0_arm64.whl (315 kB)\n",
      "\u001b[2K     \u001b[90m━━━━━━━━━━━━━━━━━━━━━━━━━━━━━━━━━━━━━━━\u001b[0m \u001b[32m315.1/315.1 kB\u001b[0m \u001b[31m4.2 MB/s\u001b[0m eta \u001b[36m0:00:00\u001b[0ma \u001b[36m0:00:01\u001b[0m\n",
      "\u001b[?25hRequirement already satisfied: click>=6.0 in /Users/kossee/anaconda3/lib/python3.10/site-packages (from yake) (8.1.7)\n",
      "Requirement already satisfied: numpy in /Users/kossee/anaconda3/lib/python3.10/site-packages (from yake) (1.26.0)\n",
      "Collecting segtok\n",
      "  Downloading segtok-1.5.11-py3-none-any.whl (24 kB)\n",
      "Collecting tabulate\n",
      "  Downloading tabulate-0.9.0-py3-none-any.whl (35 kB)\n",
      "Requirement already satisfied: regex in /Users/kossee/anaconda3/lib/python3.10/site-packages (from segtok->yake) (2023.12.25)\n",
      "Installing collected packages: tabulate, segtok, jellyfish, yake\n",
      "Successfully installed jellyfish-1.0.4 segtok-1.5.11 tabulate-0.9.0 yake-0.4.8\n"
     ]
    }
   ],
   "source": [
    "!pip3 install yake"
   ]
  },
  {
   "cell_type": "code",
   "execution_count": 12,
   "id": "2d168790-b588-4d92-a824-8152ed667e15",
   "metadata": {},
   "outputs": [
    {
     "name": "stdout",
     "output_type": "stream",
     "text": [
      "['shaormerii cu', 'brasov']\n",
      "CPU times: user 39.6 ms, sys: 24.9 ms, total: 64.5 ms\n",
      "Wall time: 336 ms\n"
     ]
    },
    {
     "name": "stderr",
     "output_type": "stream",
     "text": [
      "[nltk_data] Downloading package stopwords to\n",
      "[nltk_data]     /Users/kossee/nltk_data...\n",
      "[nltk_data]   Package stopwords is already up-to-date!\n",
      "[nltk_data] Downloading package punkt to /Users/kossee/nltk_data...\n",
      "[nltk_data]   Package punkt is already up-to-date!\n"
     ]
    }
   ],
   "source": [
    "%%time\n",
    "from rake_nltk import Rake\n",
    "import nltk\n",
    "nltk.download('stopwords')\n",
    "nltk.download('punkt')\n",
    "\n",
    "rake = Rake()\n",
    "text = \"\"\"\n",
    "Shaormerii cu specific arabesc in Brasov\n",
    "\"\"\"\n",
    "rake.extract_keywords_from_text(text)\n",
    "keywordList = []\n",
    "rankedList = rake.get_ranked_phrases_with_scores()\n",
    "for keyword in rankedList:\n",
    "    keyword_updated = keyword[1].split()\n",
    "    keyword_updated_string = \" \".join(keyword_updated[:2])\n",
    "    keywordList.append(keyword_updated_string)\n",
    "    if(len(keywordList)>9):\n",
    "        break\n",
    "print(keywordList)"
   ]
  },
  {
   "cell_type": "code",
   "execution_count": 13,
   "id": "f4ed0d48-05ab-4f5b-8971-129151c6f0ec",
   "metadata": {},
   "outputs": [
    {
     "name": "stdout",
     "output_type": "stream",
     "text": [
      "arabesc\n",
      "specific\n",
      "brasov\n",
      "cu\n",
      "CPU times: user 205 ms, sys: 36.1 ms, total: 241 ms\n",
      "Wall time: 375 ms\n"
     ]
    }
   ],
   "source": [
    "%%time\n",
    "import spacy\n",
    "from collections import Counter\n",
    "from string import punctuation\n",
    "\n",
    "nlp = spacy.load(\"en_core_web_sm\")\n",
    "\n",
    "def get_hotwords(text):\n",
    "    result = []\n",
    "    pos_tag = ['PROPN', 'ADJ', 'NOUN'] \n",
    "    doc = nlp(text.lower()) \n",
    "    for token in doc:\n",
    "        if(token.text in nlp.Defaults.stop_words or token.text in punctuation):\n",
    "            continue\n",
    "        if(token.pos_ in pos_tag):\n",
    "            result.append(token.text)\n",
    "    return result\n",
    "new_text = \"\"\"\n",
    "Shaormerii cu specific arabesc in Brasov\n",
    "\"\"\"\n",
    "output = set(get_hotwords(new_text))\n",
    "most_common_list = Counter(output).most_common(10)\n",
    "for item in most_common_list:\n",
    "    print(item[0])"
   ]
  },
  {
   "cell_type": "code",
   "execution_count": 14,
   "id": "17e10dbf-a506-44ed-a788-2affa1e13931",
   "metadata": {},
   "outputs": [
    {
     "name": "stdout",
     "output_type": "stream",
     "text": [
      "[('shaormerii', 0.4858), ('arabesc', 0.477), ('brasov', 0.4707), ('cu', 0.1933), ('specific', 0.0431)]\n",
      "CPU times: user 1.51 s, sys: 1.64 s, total: 3.15 s\n",
      "Wall time: 5.82 s\n"
     ]
    }
   ],
   "source": [
    "%%time\n",
    "from keybert import KeyBERT\n",
    "doc = \"\"\"\n",
    "         Shaormerii cu specific arabesc in Brasov\"\"\"\n",
    "kw_model = KeyBERT()\n",
    "keywords = kw_model.extract_keywords(doc)\n",
    "print(keywords)"
   ]
  },
  {
   "cell_type": "code",
   "execution_count": 15,
   "id": "9467a70a-5ca7-4154-8e08-cd63352b480e",
   "metadata": {},
   "outputs": [
    {
     "name": "stdout",
     "output_type": "stream",
     "text": [
      "('arabesc in Brasov', 0.026233073037508336)\n",
      "('Shaormerii cu specific', 0.04940384002065631)\n",
      "('Brasov', 0.08596317751626563)\n",
      "('specific arabesc', 0.09700399286574239)\n",
      "('Shaormerii', 0.15831692877998726)\n",
      "('specific', 0.29736558256021506)\n",
      "('arabesc', 0.29736558256021506)\n",
      "CPU times: user 7 ms, sys: 3.78 ms, total: 10.8 ms\n",
      "Wall time: 11.9 ms\n"
     ]
    }
   ],
   "source": [
    "%%time\n",
    "import yake\n",
    "doc = \"\"\"\n",
    "         Shaormerii cu specific arabesc in Brasov\"\"\"\n",
    "kw_extractor = yake.KeywordExtractor()\n",
    "keywords = kw_extractor.extract_keywords(doc)\n",
    "for kw in keywords:\n",
    "    print(kw)"
   ]
  },
  {
   "cell_type": "code",
   "execution_count": null,
   "id": "860c3563-e292-4b8b-a838-ce99bb2f329c",
   "metadata": {},
   "outputs": [],
   "source": []
  }
 ],
 "metadata": {
  "kernelspec": {
   "display_name": "Python 3 (ipykernel)",
   "language": "python",
   "name": "python3"
  },
  "language_info": {
   "codemirror_mode": {
    "name": "ipython",
    "version": 3
   },
   "file_extension": ".py",
   "mimetype": "text/x-python",
   "name": "python",
   "nbconvert_exporter": "python",
   "pygments_lexer": "ipython3",
   "version": "3.10.13"
  }
 },
 "nbformat": 4,
 "nbformat_minor": 5
}
